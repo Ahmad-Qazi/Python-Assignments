{
 "cells": [
  {
   "cell_type": "code",
   "execution_count": null,
   "metadata": {
    "vscode": {
     "languageId": "plaintext"
    }
   },
   "outputs": [],
   "source": [
    "# Question 1\n",
    "myName = \"Muhammad Ahmad Qazi\""
   ]
  },
  {
   "cell_type": "code",
   "execution_count": null,
   "metadata": {
    "vscode": {
     "languageId": "plaintext"
    }
   },
   "outputs": [],
   "source": [
    "# Question 2\n",
    "message = \"Hello World\"\n",
    "print (message)"
   ]
  },
  {
   "cell_type": "code",
   "execution_count": null,
   "metadata": {
    "vscode": {
     "languageId": "plaintext"
    }
   },
   "outputs": [],
   "source": [
    "# Question 3\n",
    "input1 = input(\"Please Enter Your Name: \")\n",
    "input2 = int(input(\"Please Enter Your Age: \"))\n",
    "input3 = input(\"Please Enter Your University Name: \")\n",
    "input4 = input(\"Please enter Your Course Name: \")\n",
    "print (input1)\n",
    "print (input2)\n",
    "print (input3)\n",
    "print (input4)"
   ]
  },
  {
   "cell_type": "code",
   "execution_count": null,
   "metadata": {
    "vscode": {
     "languageId": "plaintext"
    }
   },
   "outputs": [],
   "source": [
    "# Question 4\n",
    "pizza = \"PIZZA\"\n",
    "for i in range(5, 0,-1):\n",
    "    print(pizza[:i])"
   ]
  },
  {
   "cell_type": "code",
   "execution_count": null,
   "metadata": {
    "vscode": {
     "languageId": "plaintext"
    }
   },
   "outputs": [],
   "source": [
    "# Question 5\n",
    "kids = 2\n",
    "partner = \"ABC\"\n",
    "location = \"USA\"\n",
    "job = \"Ai Developer\"\n",
    "print (f\"You will be a {job} in {location}, and married to {partner} with {kids} Kids.\")"
   ]
  },
  {
   "cell_type": "code",
   "execution_count": null,
   "metadata": {
    "vscode": {
     "languageId": "plaintext"
    }
   },
   "outputs": [],
   "source": [
    "# Question 6\n",
    "email = \"abc@xyz.com\"\n",
    "print (f\"My e-mail address is: {email}\")"
   ]
  }
 ],
 "metadata": {
  "language_info": {
   "name": "python"
  }
 },
 "nbformat": 4,
 "nbformat_minor": 2
}
